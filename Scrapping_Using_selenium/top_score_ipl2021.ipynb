{
 "cells": [
  {
   "cell_type": "code",
   "execution_count": 12,
   "metadata": {},
   "outputs": [],
   "source": [
    "from selenium import webdriver\n",
    "import time\n",
    "import pandas as pd\n",
    "from selenium.webdriver.common.keys import Keys\n",
    "from selenium.webdriver.common.by import By\n",
    "PATH='C:\\Program Files (x86)\\chromedriver.exe'\n"
   ]
  },
  {
   "cell_type": "code",
   "execution_count": 116,
   "metadata": {},
   "outputs": [
    {
     "name": "stderr",
     "output_type": "stream",
     "text": [
      "C:\\Users\\VRAJNE~1\\AppData\\Local\\Temp/ipykernel_11888/2459828355.py:1: DeprecationWarning: executable_path has been deprecated, please pass in a Service object\n",
      "  driver = webdriver.Chrome(PATH)\n"
     ]
    }
   ],
   "source": [
    "driver = webdriver.Chrome(PATH)\n",
    "driver.get('https://www.iplt20.com/stats')"
   ]
  },
  {
   "cell_type": "code",
   "execution_count": 110,
   "metadata": {},
   "outputs": [
    {
     "name": "stderr",
     "output_type": "stream",
     "text": [
      "C:\\Users\\VRAJNE~1\\AppData\\Local\\Temp/ipykernel_11888/4334597.py:1: DeprecationWarning: find_element_by_class_name is deprecated. Please use find_element(by=By.CLASS_NAME, value=name) instead\n",
      "  first_player=driver.find_element_by_class_name('np-team-name-first')\n"
     ]
    },
    {
     "data": {
      "text/plain": [
       "'Ruturaj Gaikwad'"
      ]
     },
     "execution_count": 110,
     "metadata": {},
     "output_type": "execute_result"
    }
   ],
   "source": [
    "first_player=driver.find_element_by_class_name('np-team-name-first')\n",
    "first_player.text"
   ]
  },
  {
   "cell_type": "code",
   "execution_count": 112,
   "metadata": {},
   "outputs": [],
   "source": [
    "\n",
    "#driver.execute_script(\"window.scrollTo(0, document.body.scrollHeight)\") \n",
    "#print(driver.title)\n",
    "#element=driver.find_element(By.CLASS_NAME,'np-mostrunsTab__btn view-all;')\n",
    "#element=driver.find_element(By.LINK_TEXT,'View All')   # finding the link text that says View All\n",
    "#element.click()  # clicking on that element so the list expands\n",
    "#print(element)\n",
    "player_name = driver.find_elements(By.TAG_NAME, \"a\")\n",
    "player_name = driver.find_elements(By.CLASS_NAME, \"np-team-name\")\n",
    "names_of_player=[]\n",
    "names_of_player.append(first_player.text)\n",
    "for i in range(len(player_name)):\n",
    "    names_of_player.append(player_name[i].text)\n",
    "time.sleep(3)\n",
    "driver.close()#"
   ]
  },
  {
   "cell_type": "code",
   "execution_count": 140,
   "metadata": {},
   "outputs": [
    {
     "name": "stdout",
     "output_type": "stream",
     "text": [
      "POS Player Mat Inns NO Runs HS Avg BF SR 100 50 4s 6s\n",
      "1\n",
      "Ruturaj Gaikwad\n",
      "16 16 2 635 101* 45.35 466 136.26 1 4 64 23\n",
      "2\n",
      "Faf du Plessis\n",
      "16 16 2 633 95* 45.21 458 138.20 0 6 60 23\n",
      "3\n",
      "KL Rahul\n",
      "13 13 3 626 98* 62.60 451 138.80 0 6 48 30\n",
      "4\n",
      "Shikhar Dhawan\n",
      "16 16 1 587 92 39.13 471 124.62 0 3 63 16\n",
      "5\n",
      "Glenn Maxwell\n",
      "15 14 2 513 78 42.75 356 144.10 0 6 48 21\n",
      "6\n",
      "Sanju Samson\n",
      "14 14 2 484 119 40.33 354 136.72 1 2 45 17\n",
      "7\n",
      "Prithvi Shaw\n",
      "15 15 0 479 82 31.93 301 159.13 0 4 56 18\n",
      "8\n",
      "Shubman Gill\n",
      "17 17 0 478 57 28.11 402 118.90 0 3 50 12\n",
      "9\n",
      "Mayank Agarwal\n",
      "12 12 1 441 99* 40.09 314 140.44 0 4 42 18\n",
      "10\n",
      "Rishabh Pant\n",
      "16 16 4 419 58* 34.91 326 128.52 0 3 42 10\n",
      "11\n",
      "Devdutt Padikkal\n",
      "14 14 1 411 101* 31.61 328 125.30 1 1 44 14\n",
      "12\n",
      "Virat Kohli\n",
      "15 15 1 405 72* 28.92 339 119.46 0 3 43 9\n",
      "13\n",
      "Rahul Tripathi\n",
      "17 16 2 397 74* 28.35 283 140.28 0 2 41 11\n",
      "14\n",
      "Nitish Rana\n",
      "17 16 3 383 80 29.46 314 121.97 0 2 34 17\n",
      "15\n",
      "Rohit Sharma\n",
      "13 13 0 381 63 29.30 299 127.42 0 1 33 14\n",
      "16\n",
      "Venkatesh Iyer\n",
      "10 10 1 370 67 41.11 288 128.47 0 4 37 14\n",
      "17\n",
      "Moeen Ali\n",
      "15 15 1 357 58 25.50 260 137.30 0 1 31 19\n",
      "18\n",
      "Suryakumar Yadav\n",
      "14 14 0 317 82 22.64 221 143.43 0 2 40 10\n",
      "19\n",
      "AB de Villiers\n",
      "15 14 4 313 76* 31.30 211 148.34 0 2 23 16\n",
      "20\n",
      "Quinton de Kock\n",
      "11 11 1 297 70* 29.70 256 116.01 0 2 29 7\n"
     ]
    }
   ],
   "source": [
    "# Getting player Stats\n",
    "columns=['Matches','Runs','Highest_scores','Average','Strike_rate','Century','Fiftes','No_of_Six','No_of_Fours']\n",
    "table = driver.find_element(By.CLASS_NAME,'np-mostruns_table')\n",
    "print(table.text)\n",
    "\n"
   ]
  },
  {
   "cell_type": "code",
   "execution_count": null,
   "metadata": {},
   "outputs": [],
   "source": []
  }
 ],
 "metadata": {
  "interpreter": {
   "hash": "7b1d35e13e56d12051e5e9d734bb92b370c5d1cc437cafe7e3819a3f15c28a3f"
  },
  "kernelspec": {
   "display_name": "Python 3.9.7 ('base')",
   "language": "python",
   "name": "python3"
  },
  "language_info": {
   "codemirror_mode": {
    "name": "ipython",
    "version": 3
   },
   "file_extension": ".py",
   "mimetype": "text/x-python",
   "name": "python",
   "nbconvert_exporter": "python",
   "pygments_lexer": "ipython3",
   "version": "3.9.7"
  },
  "orig_nbformat": 4
 },
 "nbformat": 4,
 "nbformat_minor": 2
}
