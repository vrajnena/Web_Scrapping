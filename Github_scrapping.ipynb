{
 "cells": [
  {
   "cell_type": "markdown",
   "metadata": {},
   "source": [
    "\n",
    "[Tutorial link](https://jovian.ai/aakashns/python-web-scraping-project-guide)\n",
    "\n",
    "[Github link that we going to scrape](https://github.com/topics)\n",
    "- we will get list of  topics. For each topic , we will get topic title, topic Url, topic descrpition\n",
    "- For each topic we will get top 25 REPO, we will get Repo name, Repo URL,stars ,username\n",
    "- for each topic there will be a csv file"
   ]
  },
  {
   "cell_type": "code",
   "execution_count": 44,
   "metadata": {},
   "outputs": [],
   "source": [
    "import requests\n",
    "from bs4 import BeautifulSoup\n",
    "import pandas as pd"
   ]
  },
  {
   "cell_type": "code",
   "execution_count": 3,
   "metadata": {},
   "outputs": [],
   "source": [
    "response= requests.get('https://github.com/topics')"
   ]
  },
  {
   "cell_type": "code",
   "execution_count": 4,
   "metadata": {},
   "outputs": [
    {
     "data": {
      "text/plain": [
       "200"
      ]
     },
     "execution_count": 4,
     "metadata": {},
     "output_type": "execute_result"
    }
   ],
   "source": [
    "response.status_code # to check whether it is successfull or not"
   ]
  },
  {
   "cell_type": "code",
   "execution_count": 5,
   "metadata": {},
   "outputs": [
    {
     "data": {
      "text/plain": [
       "138949"
      ]
     },
     "execution_count": 5,
     "metadata": {},
     "output_type": "execute_result"
    }
   ],
   "source": [
    "len(response.text) # dont print response.text as it contains too much values"
   ]
  },
  {
   "cell_type": "code",
   "execution_count": 6,
   "metadata": {},
   "outputs": [
    {
     "data": {
      "text/plain": [
       "'\\n\\n<!DOCTYPE html>\\n<html lang=\"en\" data-color-mode=\"auto\" data-light-theme=\"light\" data-dark-theme=\"d'"
      ]
     },
     "execution_count": 6,
     "metadata": {},
     "output_type": "execute_result"
    }
   ],
   "source": [
    "# looking at first 100 content of page\n",
    "response.text[:100]"
   ]
  },
  {
   "cell_type": "code",
   "execution_count": 7,
   "metadata": {},
   "outputs": [],
   "source": [
    "# saving all the page content to a file\n",
    "with open('example.html','w',encoding='utf-8') as f:\n",
    "    f.write(response.text)"
   ]
  },
  {
   "cell_type": "code",
   "execution_count": 8,
   "metadata": {},
   "outputs": [],
   "source": [
    "# creating a beautiful soup object\n",
    "content = response.text\n",
    "doc = BeautifulSoup(content,'html.parser')\n",
    "#doc"
   ]
  },
  {
   "cell_type": "code",
   "execution_count": 30,
   "metadata": {},
   "outputs": [
    {
     "data": {
      "text/plain": [
       "30"
      ]
     },
     "execution_count": 30,
     "metadata": {},
     "output_type": "execute_result"
    }
   ],
   "source": [
    "Topic_name= doc.find_all('p', {'class': \"f3 lh-condensed mb-0 mt-1 Link--primary\"})\n",
    "len(Topic_name)"
   ]
  },
  {
   "cell_type": "code",
   "execution_count": 31,
   "metadata": {},
   "outputs": [
    {
     "name": "stdout",
     "output_type": "stream",
     "text": [
      "['3D', 'Ajax', 'Algorithm', 'Amp', 'Android', 'Angular', 'Ansible', 'API', 'Arduino', 'ASP.NET', 'Atom', 'Awesome Lists', 'Amazon Web Services', 'Azure', 'Babel', 'Bash', 'Bitcoin', 'Bootstrap', 'Bot', 'C', 'Chrome', 'Chrome extension', 'Command line interface', 'Clojure', 'Code quality', 'Code review', 'Compiler', 'Continuous integration', 'COVID-19', 'C++']\n"
     ]
    }
   ],
   "source": [
    "topic_title=[]\n",
    "for i in range(len(Topic_name)):\n",
    "    topic_title.append(Topic_name[i].text)\n",
    "print(topic_title)"
   ]
  },
  {
   "cell_type": "code",
   "execution_count": 32,
   "metadata": {},
   "outputs": [],
   "source": [
    "Topic_description= doc.find_all('p',{'class':'f5 color-fg-muted mb-0 mt-1'})"
   ]
  },
  {
   "cell_type": "code",
   "execution_count": 20,
   "metadata": {},
   "outputs": [
    {
     "data": {
      "text/plain": [
       "30"
      ]
     },
     "execution_count": 20,
     "metadata": {},
     "output_type": "execute_result"
    }
   ],
   "source": [
    "Topic_url= doc.find_all('a',{'class':'no-underline flex-grow-0'})\n",
    "len(Topic_url)"
   ]
  },
  {
   "cell_type": "code",
   "execution_count": 41,
   "metadata": {},
   "outputs": [
    {
     "data": {
      "text/plain": [
       "30"
      ]
     },
     "execution_count": 41,
     "metadata": {},
     "output_type": "execute_result"
    }
   ],
   "source": [
    "url=[]\n",
    "description=[]\n",
    "for i in range(len(Topic_url)):\n",
    "    final_url= \"https://github.com\"+Topic_url[i]['href']\n",
    "    url.append(final_url)\n",
    "    description.append(Topic_description[i].text.strip())\n",
    "    \n"
   ]
  },
  {
   "cell_type": "code",
   "execution_count": 43,
   "metadata": {},
   "outputs": [
    {
     "name": "stdout",
     "output_type": "stream",
     "text": [
      "30\n",
      "30\n"
     ]
    }
   ],
   "source": [
    "print(len(url))\n",
    "print(len(description))\n"
   ]
  },
  {
   "cell_type": "code",
   "execution_count": 46,
   "metadata": {},
   "outputs": [],
   "source": [
    "# creating a dataframe with  name ,url and desc\n",
    "\n",
    "data =  pd.DataFrame(list(zip(topic_title,url,description)),columns=['Title','Url','Description'])"
   ]
  },
  {
   "cell_type": "code",
   "execution_count": 49,
   "metadata": {},
   "outputs": [
    {
     "data": {
      "text/html": [
       "<div>\n",
       "<style scoped>\n",
       "    .dataframe tbody tr th:only-of-type {\n",
       "        vertical-align: middle;\n",
       "    }\n",
       "\n",
       "    .dataframe tbody tr th {\n",
       "        vertical-align: top;\n",
       "    }\n",
       "\n",
       "    .dataframe thead th {\n",
       "        text-align: right;\n",
       "    }\n",
       "</style>\n",
       "<table border=\"1\" class=\"dataframe\">\n",
       "  <thead>\n",
       "    <tr style=\"text-align: right;\">\n",
       "      <th></th>\n",
       "      <th>Title</th>\n",
       "      <th>Url</th>\n",
       "      <th>Description</th>\n",
       "    </tr>\n",
       "  </thead>\n",
       "  <tbody>\n",
       "    <tr>\n",
       "      <th>0</th>\n",
       "      <td>3D</td>\n",
       "      <td>https://github.com/topics/3d</td>\n",
       "      <td>3D modeling is the process of virtually develo...</td>\n",
       "    </tr>\n",
       "    <tr>\n",
       "      <th>1</th>\n",
       "      <td>Ajax</td>\n",
       "      <td>https://github.com/topics/ajax</td>\n",
       "      <td>Ajax is a technique for creating interactive w...</td>\n",
       "    </tr>\n",
       "    <tr>\n",
       "      <th>2</th>\n",
       "      <td>Algorithm</td>\n",
       "      <td>https://github.com/topics/algorithm</td>\n",
       "      <td>Algorithms are self-contained sequences that c...</td>\n",
       "    </tr>\n",
       "    <tr>\n",
       "      <th>3</th>\n",
       "      <td>Amp</td>\n",
       "      <td>https://github.com/topics/amphp</td>\n",
       "      <td>Amp is a non-blocking concurrency library for ...</td>\n",
       "    </tr>\n",
       "    <tr>\n",
       "      <th>4</th>\n",
       "      <td>Android</td>\n",
       "      <td>https://github.com/topics/android</td>\n",
       "      <td>Android is an operating system built by Google...</td>\n",
       "    </tr>\n",
       "    <tr>\n",
       "      <th>5</th>\n",
       "      <td>Angular</td>\n",
       "      <td>https://github.com/topics/angular</td>\n",
       "      <td>Angular is an open source web application plat...</td>\n",
       "    </tr>\n",
       "    <tr>\n",
       "      <th>6</th>\n",
       "      <td>Ansible</td>\n",
       "      <td>https://github.com/topics/ansible</td>\n",
       "      <td>Ansible is a simple and powerful automation en...</td>\n",
       "    </tr>\n",
       "    <tr>\n",
       "      <th>7</th>\n",
       "      <td>API</td>\n",
       "      <td>https://github.com/topics/api</td>\n",
       "      <td>An API (Application Programming Interface) is ...</td>\n",
       "    </tr>\n",
       "    <tr>\n",
       "      <th>8</th>\n",
       "      <td>Arduino</td>\n",
       "      <td>https://github.com/topics/arduino</td>\n",
       "      <td>Arduino is an open source hardware and softwar...</td>\n",
       "    </tr>\n",
       "    <tr>\n",
       "      <th>9</th>\n",
       "      <td>ASP.NET</td>\n",
       "      <td>https://github.com/topics/aspnet</td>\n",
       "      <td>ASP.NET is a web framework for building modern...</td>\n",
       "    </tr>\n",
       "    <tr>\n",
       "      <th>10</th>\n",
       "      <td>Atom</td>\n",
       "      <td>https://github.com/topics/atom</td>\n",
       "      <td>Atom is a open source text editor built with w...</td>\n",
       "    </tr>\n",
       "    <tr>\n",
       "      <th>11</th>\n",
       "      <td>Awesome Lists</td>\n",
       "      <td>https://github.com/topics/awesome</td>\n",
       "      <td>An awesome list is a list of awesome things cu...</td>\n",
       "    </tr>\n",
       "    <tr>\n",
       "      <th>12</th>\n",
       "      <td>Amazon Web Services</td>\n",
       "      <td>https://github.com/topics/aws</td>\n",
       "      <td>Amazon Web Services provides on-demand cloud c...</td>\n",
       "    </tr>\n",
       "    <tr>\n",
       "      <th>13</th>\n",
       "      <td>Azure</td>\n",
       "      <td>https://github.com/topics/azure</td>\n",
       "      <td>Azure is a cloud computing service created by ...</td>\n",
       "    </tr>\n",
       "    <tr>\n",
       "      <th>14</th>\n",
       "      <td>Babel</td>\n",
       "      <td>https://github.com/topics/babel</td>\n",
       "      <td>Babel is a compiler for writing next generatio...</td>\n",
       "    </tr>\n",
       "    <tr>\n",
       "      <th>15</th>\n",
       "      <td>Bash</td>\n",
       "      <td>https://github.com/topics/bash</td>\n",
       "      <td>Bash is a shell and command language interpret...</td>\n",
       "    </tr>\n",
       "    <tr>\n",
       "      <th>16</th>\n",
       "      <td>Bitcoin</td>\n",
       "      <td>https://github.com/topics/bitcoin</td>\n",
       "      <td>Bitcoin is a cryptocurrency developed by Satos...</td>\n",
       "    </tr>\n",
       "    <tr>\n",
       "      <th>17</th>\n",
       "      <td>Bootstrap</td>\n",
       "      <td>https://github.com/topics/bootstrap</td>\n",
       "      <td>Bootstrap is an HTML, CSS, and JavaScript fram...</td>\n",
       "    </tr>\n",
       "    <tr>\n",
       "      <th>18</th>\n",
       "      <td>Bot</td>\n",
       "      <td>https://github.com/topics/bot</td>\n",
       "      <td>A bot is an application that runs automated ta...</td>\n",
       "    </tr>\n",
       "    <tr>\n",
       "      <th>19</th>\n",
       "      <td>C</td>\n",
       "      <td>https://github.com/topics/c</td>\n",
       "      <td>C is a general purpose programming language th...</td>\n",
       "    </tr>\n",
       "    <tr>\n",
       "      <th>20</th>\n",
       "      <td>Chrome</td>\n",
       "      <td>https://github.com/topics/chrome</td>\n",
       "      <td>Chrome is a web browser from the tech company ...</td>\n",
       "    </tr>\n",
       "    <tr>\n",
       "      <th>21</th>\n",
       "      <td>Chrome extension</td>\n",
       "      <td>https://github.com/topics/chrome-extension</td>\n",
       "      <td>Google Chrome Extensions are add-ons that allo...</td>\n",
       "    </tr>\n",
       "    <tr>\n",
       "      <th>22</th>\n",
       "      <td>Command line interface</td>\n",
       "      <td>https://github.com/topics/cli</td>\n",
       "      <td>A CLI, or command-line interface, is a console...</td>\n",
       "    </tr>\n",
       "    <tr>\n",
       "      <th>23</th>\n",
       "      <td>Clojure</td>\n",
       "      <td>https://github.com/topics/clojure</td>\n",
       "      <td>Clojure is a dynamic, general-purpose programm...</td>\n",
       "    </tr>\n",
       "    <tr>\n",
       "      <th>24</th>\n",
       "      <td>Code quality</td>\n",
       "      <td>https://github.com/topics/code-quality</td>\n",
       "      <td>Automate your code review with style, quality,...</td>\n",
       "    </tr>\n",
       "    <tr>\n",
       "      <th>25</th>\n",
       "      <td>Code review</td>\n",
       "      <td>https://github.com/topics/code-review</td>\n",
       "      <td>Ensure your code meets quality standards and s...</td>\n",
       "    </tr>\n",
       "    <tr>\n",
       "      <th>26</th>\n",
       "      <td>Compiler</td>\n",
       "      <td>https://github.com/topics/compiler</td>\n",
       "      <td>Compilers are software that translate higher-l...</td>\n",
       "    </tr>\n",
       "    <tr>\n",
       "      <th>27</th>\n",
       "      <td>Continuous integration</td>\n",
       "      <td>https://github.com/topics/continuous-integration</td>\n",
       "      <td>Automatically build and test your code as you ...</td>\n",
       "    </tr>\n",
       "    <tr>\n",
       "      <th>28</th>\n",
       "      <td>COVID-19</td>\n",
       "      <td>https://github.com/topics/covid-19</td>\n",
       "      <td>The coronavirus disease 2019 (COVID-19) is an ...</td>\n",
       "    </tr>\n",
       "    <tr>\n",
       "      <th>29</th>\n",
       "      <td>C++</td>\n",
       "      <td>https://github.com/topics/cpp</td>\n",
       "      <td>C++ is a general purpose and object-oriented p...</td>\n",
       "    </tr>\n",
       "  </tbody>\n",
       "</table>\n",
       "</div>"
      ],
      "text/plain": [
       "                     Title                                               Url  \\\n",
       "0                       3D                      https://github.com/topics/3d   \n",
       "1                     Ajax                    https://github.com/topics/ajax   \n",
       "2                Algorithm               https://github.com/topics/algorithm   \n",
       "3                      Amp                   https://github.com/topics/amphp   \n",
       "4                  Android                 https://github.com/topics/android   \n",
       "5                  Angular                 https://github.com/topics/angular   \n",
       "6                  Ansible                 https://github.com/topics/ansible   \n",
       "7                      API                     https://github.com/topics/api   \n",
       "8                  Arduino                 https://github.com/topics/arduino   \n",
       "9                  ASP.NET                  https://github.com/topics/aspnet   \n",
       "10                    Atom                    https://github.com/topics/atom   \n",
       "11           Awesome Lists                 https://github.com/topics/awesome   \n",
       "12     Amazon Web Services                     https://github.com/topics/aws   \n",
       "13                   Azure                   https://github.com/topics/azure   \n",
       "14                   Babel                   https://github.com/topics/babel   \n",
       "15                    Bash                    https://github.com/topics/bash   \n",
       "16                 Bitcoin                 https://github.com/topics/bitcoin   \n",
       "17               Bootstrap               https://github.com/topics/bootstrap   \n",
       "18                     Bot                     https://github.com/topics/bot   \n",
       "19                       C                       https://github.com/topics/c   \n",
       "20                  Chrome                  https://github.com/topics/chrome   \n",
       "21        Chrome extension        https://github.com/topics/chrome-extension   \n",
       "22  Command line interface                     https://github.com/topics/cli   \n",
       "23                 Clojure                 https://github.com/topics/clojure   \n",
       "24            Code quality            https://github.com/topics/code-quality   \n",
       "25             Code review             https://github.com/topics/code-review   \n",
       "26                Compiler                https://github.com/topics/compiler   \n",
       "27  Continuous integration  https://github.com/topics/continuous-integration   \n",
       "28                COVID-19                https://github.com/topics/covid-19   \n",
       "29                     C++                     https://github.com/topics/cpp   \n",
       "\n",
       "                                          Description  \n",
       "0   3D modeling is the process of virtually develo...  \n",
       "1   Ajax is a technique for creating interactive w...  \n",
       "2   Algorithms are self-contained sequences that c...  \n",
       "3   Amp is a non-blocking concurrency library for ...  \n",
       "4   Android is an operating system built by Google...  \n",
       "5   Angular is an open source web application plat...  \n",
       "6   Ansible is a simple and powerful automation en...  \n",
       "7   An API (Application Programming Interface) is ...  \n",
       "8   Arduino is an open source hardware and softwar...  \n",
       "9   ASP.NET is a web framework for building modern...  \n",
       "10  Atom is a open source text editor built with w...  \n",
       "11  An awesome list is a list of awesome things cu...  \n",
       "12  Amazon Web Services provides on-demand cloud c...  \n",
       "13  Azure is a cloud computing service created by ...  \n",
       "14  Babel is a compiler for writing next generatio...  \n",
       "15  Bash is a shell and command language interpret...  \n",
       "16  Bitcoin is a cryptocurrency developed by Satos...  \n",
       "17  Bootstrap is an HTML, CSS, and JavaScript fram...  \n",
       "18  A bot is an application that runs automated ta...  \n",
       "19  C is a general purpose programming language th...  \n",
       "20  Chrome is a web browser from the tech company ...  \n",
       "21  Google Chrome Extensions are add-ons that allo...  \n",
       "22  A CLI, or command-line interface, is a console...  \n",
       "23  Clojure is a dynamic, general-purpose programm...  \n",
       "24  Automate your code review with style, quality,...  \n",
       "25  Ensure your code meets quality standards and s...  \n",
       "26  Compilers are software that translate higher-l...  \n",
       "27  Automatically build and test your code as you ...  \n",
       "28  The coronavirus disease 2019 (COVID-19) is an ...  \n",
       "29  C++ is a general purpose and object-oriented p...  "
      ]
     },
     "execution_count": 49,
     "metadata": {},
     "output_type": "execute_result"
    }
   ],
   "source": [
    "data"
   ]
  },
  {
   "cell_type": "code",
   "execution_count": 51,
   "metadata": {},
   "outputs": [],
   "source": [
    "#Creating a csv file\n",
    "data.to_csv('Github_topics.csv',index=None)"
   ]
  },
  {
   "cell_type": "code",
   "execution_count": null,
   "metadata": {},
   "outputs": [],
   "source": []
  }
 ],
 "metadata": {
  "interpreter": {
   "hash": "7b1d35e13e56d12051e5e9d734bb92b370c5d1cc437cafe7e3819a3f15c28a3f"
  },
  "kernelspec": {
   "display_name": "Python 3.9.7 ('base')",
   "language": "python",
   "name": "python3"
  },
  "language_info": {
   "codemirror_mode": {
    "name": "ipython",
    "version": 3
   },
   "file_extension": ".py",
   "mimetype": "text/x-python",
   "name": "python",
   "nbconvert_exporter": "python",
   "pygments_lexer": "ipython3",
   "version": "3.9.7"
  },
  "orig_nbformat": 4
 },
 "nbformat": 4,
 "nbformat_minor": 2
}
