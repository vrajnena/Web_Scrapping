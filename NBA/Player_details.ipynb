{
 "cells": [
  {
   "cell_type": "code",
   "execution_count": 1,
   "metadata": {},
   "outputs": [],
   "source": [
    "import pandas as pd\n",
    "import requests\n",
    "from bs4 import BeautifulSoup"
   ]
  },
  {
   "cell_type": "code",
   "execution_count": 2,
   "metadata": {},
   "outputs": [
    {
     "data": {
      "text/plain": [
       "200"
      ]
     },
     "execution_count": 2,
     "metadata": {},
     "output_type": "execute_result"
    }
   ],
   "source": [
    "check =requests.get('https://www.basketball-reference.com/')\n",
    "check.status_code"
   ]
  },
  {
   "cell_type": "code",
   "execution_count": 57,
   "metadata": {},
   "outputs": [
    {
     "data": {
      "text/plain": [
       "'s/simpd.01.html'"
      ]
     },
     "execution_count": 57,
     "metadata": {},
     "output_type": "execute_result"
    }
   ],
   "source": [
    "x = \"D.J Simp\"\n",
    "x.split(\" \")\n",
    "x.split(\" \")[1][:1].lower()+\"/\"+x.split(\" \")[1].lower()+ x.split(\" \")[0][:2].lower()+\"01.html\"\n"
   ]
  },
  {
   "cell_type": "code",
   "execution_count": 3,
   "metadata": {},
   "outputs": [],
   "source": [
    "# Lets create a url for each player\n",
    "#player_name = str(input(\"Enter the name of Player\"))\n",
    "def get_url(name):\n",
    "    current_url =\"https://www.basketball-reference.com/players/\"\n",
    "    s = name.split(\" \")\n",
    "    if (len(s[1]))>4 and (\".\" in s[0])== True:\n",
    "        final_url = current_url+ s[1][:1].lower()+\"/\"+s[1][:5].lower()+ s[0][:3:2].lower()+\"01.html\"\n",
    "        return final_url\n",
    "    elif (len(s[1]))>4:\n",
    "        final_url = current_url+ s[1][:1].lower()+\"/\"+s[1][:5].lower()+ s[0][:2].lower()+\"01.html\"\n",
    "        return final_url\n",
    "    else:\n",
    "        final_url = current_url+ s[1][:1].lower()+\"/\"+s[1][:4].lower()+ s[0][:2].lower()+\"01.html\"\n",
    "        return final_url\n"
   ]
  },
  {
   "cell_type": "code",
   "execution_count": 123,
   "metadata": {},
   "outputs": [
    {
     "data": {
      "text/plain": [
       "'https://www.basketball-reference.com/players/j/jamesle01.html'"
      ]
     },
     "execution_count": 123,
     "metadata": {},
     "output_type": "execute_result"
    }
   ],
   "source": [
    "get_url(str(input(\"Enter the name of Player\")))"
   ]
  },
  {
   "cell_type": "code",
   "execution_count": 101,
   "metadata": {},
   "outputs": [
    {
     "data": {
      "text/plain": [
       "[<option disabled=\"disabled\" selected=\"selected\" value=\"\">... then a player</option>,\n",
       " <option value=\"\">Please select a team first</option>]"
      ]
     },
     "execution_count": 101,
     "metadata": {},
     "output_type": "execute_result"
    }
   ],
   "source": [
    "# let's extract names of all  the Los Angles lakers players in the list\n",
    "page_content = check.text\n",
    "acsess=BeautifulSoup(page_content,'html.parser')\n",
    "player_names= []\n",
    "names = acsess.find('select',{'name':'1'}).find_all(\"option\")\n",
    "names\n"
   ]
  },
  {
   "cell_type": "code",
   "execution_count": 12,
   "metadata": {},
   "outputs": [
    {
     "name": "stdout",
     "output_type": "stream",
     "text": [
      "18x All Star\n",
      "2007-08 Scoring Champ\n",
      "2019-20 AST Champ\n",
      "4x NBA Champ\n",
      "17x All-NBA\n",
      "2003-04 All-Rookie\n",
      "2003-04 ROY\n",
      "3x AS MVP\n",
      "6x All-Defensive\n",
      "4x MVP\n",
      "4x Finals MVP\n",
      "NBA 75th Anniv. Team\n"
     ]
    }
   ],
   "source": [
    "page_access= requests.get('https://www.basketball-reference.com/players/j/jamesle01.html')\n",
    "page_content= page_access.text\n",
    "data = BeautifulSoup(page_content,'html.parser')\n",
    "player_data = data.find('div',{'itemtype':'https://schema.org/Person'}).find_all(\"p\")\n",
    "#player_data[4].text.rstrip().replace(\"\\n\",\"\").split(\"in\")[0]\n",
    "player_achievement = data.find('ul',{'id':'bling'})\n",
    "\n",
    "for text in player_achievement.find_all('li'):\n",
    "\n",
    "    print(text.text)"
   ]
  },
  {
   "cell_type": "code",
   "execution_count": 14,
   "metadata": {},
   "outputs": [
    {
     "data": {
      "text/plain": [
       "'  Right'"
      ]
     },
     "execution_count": 14,
     "metadata": {},
     "output_type": "execute_result"
    }
   ],
   "source": [
    "player_data = data.find('div',{'itemtype':'https://schema.org/Person'}).find_all(\"p\")\n",
    "player_shoot= player_data[2].text.strip().split('\\n')[-1]\n",
    "player_shoot"
   ]
  },
  {
   "cell_type": "code",
   "execution_count": 31,
   "metadata": {},
   "outputs": [],
   "source": [
    "def get_player_info(url):\n",
    "    page_access= requests.get(url)\n",
    "    page_content= page_access.text\n",
    "    data = BeautifulSoup(page_content,'html.parser')\n",
    "    player_name= data.find('h1',{'itemprop':'name'}).find('span')\n",
    "    player_height= data.find('span',{'itemprop':'height'})\n",
    "    player_data = data.find('div',{'itemtype':'https://schema.org/Person'}).find_all(\"p\")\n",
    "    player_position=player_data[2].text.strip().split('\\n')[2]\n",
    "    player_shoot= player_data[2].text.strip().split('\\n')[-1]\n",
    "    player_instagram= data.find('div',{'itemtype':'https://schema.org/Person'}).find_all(\"a\")[2]['href']\n",
    "    player_debut=  player_data[8].text.strip().split(\":\")[1]\n",
    "    player_DOB=player_data[4].text.rstrip().replace(\"\\n\",\"\").split(\"in\")[0]\n",
    "    player_experience=player_data[9].text.strip().split(\":\")[1][1:]\n",
    "    player_achievement = data.find('ul',{'id':'bling'})\n",
    "    #for text in player_achievement.find_all('li'):\n",
    "        #achievments=text.text\n",
    "    data_list=[player_name,player_height,player_shoot,player_instagram,player_debut,player_experience,player_DOB]\n",
    "    final_data=[]\n",
    "    for i in data_list:\n",
    "        final_data.append(i)\n",
    "    return final_data"
   ]
  },
  {
   "cell_type": "code",
   "execution_count": 34,
   "metadata": {},
   "outputs": [
    {
     "name": "stderr",
     "output_type": "stream",
     "text": [
      "C:\\Users\\Vraj Nena\\anaconda3\\lib\\site-packages\\pandas\\core\\internals\\construction.py:540: VisibleDeprecationWarning: Creating an ndarray from ragged nested sequences (which is a list-or-tuple of lists-or-tuples-or ndarrays with different lengths or shapes) is deprecated. If you meant to do this, you must specify 'dtype=object' when creating the ndarray.\n",
      "  values = np.array([convert(v) for v in values])\n"
     ]
    }
   ],
   "source": [
    "x= get_player_info(get_url(input(\"Enter the name of Player\")))\n",
    "dataframe = pd.DataFrame(x)"
   ]
  },
  {
   "cell_type": "code",
   "execution_count": 37,
   "metadata": {},
   "outputs": [
    {
     "data": {
      "text/html": [
       "<div>\n",
       "<style scoped>\n",
       "    .dataframe tbody tr th:only-of-type {\n",
       "        vertical-align: middle;\n",
       "    }\n",
       "\n",
       "    .dataframe tbody tr th {\n",
       "        vertical-align: top;\n",
       "    }\n",
       "\n",
       "    .dataframe thead th {\n",
       "        text-align: right;\n",
       "    }\n",
       "</style>\n",
       "<table border=\"1\" class=\"dataframe\">\n",
       "  <thead>\n",
       "    <tr style=\"text-align: right;\">\n",
       "      <th></th>\n",
       "      <th>0</th>\n",
       "      <th>1</th>\n",
       "      <th>2</th>\n",
       "      <th>3</th>\n",
       "      <th>4</th>\n",
       "      <th>5</th>\n",
       "      <th>6</th>\n",
       "    </tr>\n",
       "  </thead>\n",
       "  <tbody>\n",
       "    <tr>\n",
       "      <th>0</th>\n",
       "      <td>[LeBron James]</td>\n",
       "      <td>[6-9]</td>\n",
       "      <td>Right</td>\n",
       "      <td>https://instagram.com/kingjames</td>\n",
       "      <td>October 29, 2003</td>\n",
       "      <td>18 years</td>\n",
       "      <td>Born: December 30,            1984</td>\n",
       "    </tr>\n",
       "  </tbody>\n",
       "</table>\n",
       "</div>"
      ],
      "text/plain": [
       "                0      1        2                                3  \\\n",
       "0  [LeBron James]  [6-9]    Right  https://instagram.com/kingjames   \n",
       "\n",
       "                   4         5                                       6  \n",
       "0   October 29, 2003  18 years  Born: December 30,            1984      "
      ]
     },
     "execution_count": 37,
     "metadata": {},
     "output_type": "execute_result"
    }
   ],
   "source": [
    "dataframe.T"
   ]
  },
  {
   "cell_type": "code",
   "execution_count": 38,
   "metadata": {},
   "outputs": [],
   "source": [
    "dataframe.to_csv(\"lebrown\")"
   ]
  },
  {
   "cell_type": "code",
   "execution_count": null,
   "metadata": {},
   "outputs": [],
   "source": []
  }
 ],
 "metadata": {
  "interpreter": {
   "hash": "7b1d35e13e56d12051e5e9d734bb92b370c5d1cc437cafe7e3819a3f15c28a3f"
  },
  "kernelspec": {
   "display_name": "Python 3.9.7 ('base')",
   "language": "python",
   "name": "python3"
  },
  "language_info": {
   "codemirror_mode": {
    "name": "ipython",
    "version": 3
   },
   "file_extension": ".py",
   "mimetype": "text/x-python",
   "name": "python",
   "nbconvert_exporter": "python",
   "pygments_lexer": "ipython3",
   "version": "3.9.7"
  },
  "orig_nbformat": 4
 },
 "nbformat": 4,
 "nbformat_minor": 2
}
